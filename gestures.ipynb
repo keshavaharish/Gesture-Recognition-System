{
 "cells": [
  {
   "cell_type": "code",
   "execution_count": 8,
   "metadata": {},
   "outputs": [],
   "source": [
    "import cv2\n",
    "import numpy as np\n",
    "import mediapipe as mp\n",
    "from sklearn.ensemble import RandomForestClassifier\n",
    "from sklearn.model_selection import train_test_split\n",
    "from sklearn.metrics import classification_report\n",
    "import joblib\n"
   ]
  },
  {
   "cell_type": "code",
   "execution_count": 9,
   "metadata": {},
   "outputs": [],
   "source": [
    "mp_hands = mp.solutions.hands\n",
    "hands = mp_hands.Hands(static_image_mode=False, max_num_hands=1, min_detection_confidence=0.5)\n",
    "mp_draw = mp.solutions.drawing_utils\n",
    "\n",
    "def collect_gesture_data(gesture_label, num_samples=300):\n",
    "    cap = cv2.VideoCapture(0)\n",
    "    print(f\"Collecting data for: {gesture_label}\")\n",
    "    print(\"Press 'q' to quit...\")\n",
    "    \n",
    "    data = []\n",
    "    samples_collected = 0\n",
    "    \n",
    "    while samples_collected < num_samples:\n",
    "        ret, frame = cap.read()\n",
    "        if not ret:\n",
    "            break\n",
    "\n",
    "        frame = cv2.flip(frame, 1)\n",
    "        rgb_frame = cv2.cvtColor(frame, cv2.COLOR_BGR2RGB)\n",
    "        result = hands.process(rgb_frame)\n",
    "\n",
    "        if result.multi_hand_landmarks:\n",
    "            for hand_landmarks in result.multi_hand_landmarks:\n",
    "                landmarks = []\n",
    "                for lm in hand_landmarks.landmark:\n",
    "                    landmarks.extend([lm.x, lm.y, lm.z])\n",
    "                \n",
    "                data.append([landmarks, gesture_label])\n",
    "                samples_collected += 1\n",
    "\n",
    "        cv2.imshow(\"Collecting Data\", frame)\n",
    "        if cv2.waitKey(1) & 0xFF == ord('q'):\n",
    "            break\n",
    "\n",
    "    cap.release()\n",
    "    cv2.destroyAllWindows()\n",
    "    print(f\"Collected {samples_collected} samples for gesture: {gesture_label}\")\n",
    "    return data\n"
   ]
  },
  {
   "cell_type": "code",
   "execution_count": 25,
   "metadata": {},
   "outputs": [
    {
     "name": "stdout",
     "output_type": "stream",
     "text": [
      "Collecting data for: Fist\n",
      "Press 'q' to quit...\n",
      "Collected 300 samples for gesture: Fist\n",
      "Collecting data for: Palm\n",
      "Press 'q' to quit...\n",
      "Collected 300 samples for gesture: Palm\n",
      "Collecting data for: Thumbs Up\n",
      "Press 'q' to quit...\n",
      "Collected 300 samples for gesture: Thumbs Up\n",
      "Collecting data for: Victory\n",
      "Press 'q' to quit...\n",
      "Collected 300 samples for gesture: Victory\n",
      "Collecting data for: Pointing\n",
      "Press 'q' to quit...\n",
      "Collected 300 samples for gesture: Pointing\n"
     ]
    }
   ],
   "source": [
    "gesture_labels = [\"Fist\", \"Palm\", \"Thumbs Up\", \"Victory\", \"Pointing\"]\n",
    "all_data = []\n",
    "\n",
    "for label in gesture_labels:\n",
    "    gesture_data = collect_gesture_data(label)\n",
    "    all_data.extend(gesture_data)\n"
   ]
  },
  {
   "cell_type": "code",
   "execution_count": 26,
   "metadata": {},
   "outputs": [
    {
     "name": "stdout",
     "output_type": "stream",
     "text": [
      "Data saved successfully!\n"
     ]
    }
   ],
   "source": [
    "import pickle\n",
    "\n",
    "with open('gesture_data.pkl', 'wb') as file:\n",
    "    pickle.dump(all_data, file)\n",
    "\n",
    "print(\"Data saved successfully!\")\n"
   ]
  },
  {
   "cell_type": "code",
   "execution_count": 27,
   "metadata": {},
   "outputs": [],
   "source": [
    "with open('gesture_data.pkl', 'rb') as file:\n",
    "    data = pickle.load(file)\n",
    "\n",
    "X = [item[0] for item in data]\n",
    "y = [item[1] for item in data]\n",
    "\n",
    "X = np.array(X)\n",
    "y = np.array(y)\n"
   ]
  },
  {
   "cell_type": "code",
   "execution_count": 28,
   "metadata": {},
   "outputs": [
    {
     "name": "stdout",
     "output_type": "stream",
     "text": [
      "              precision    recall  f1-score   support\n",
      "\n",
      "        Fist       0.98      1.00      0.99        56\n",
      "        Palm       1.00      1.00      1.00        65\n",
      "    Pointing       1.00      1.00      1.00        64\n",
      "   Thumbs Up       1.00      0.98      0.99        49\n",
      "     Victory       1.00      1.00      1.00        66\n",
      "\n",
      "    accuracy                           1.00       300\n",
      "   macro avg       1.00      1.00      1.00       300\n",
      "weighted avg       1.00      1.00      1.00       300\n",
      "\n",
      "Model saved successfully!\n"
     ]
    }
   ],
   "source": [
    "X_train, X_test, y_train, y_test = train_test_split(X, y, test_size=0.2, random_state=42)\n",
    "\n",
    "classifier = RandomForestClassifier(random_state=42)\n",
    "classifier.fit(X_train, y_train)\n",
    "\n",
    "y_pred = classifier.predict(X_test)\n",
    "print(classification_report(y_test, y_pred))\n",
    "\n",
    "# Save the model\n",
    "joblib.dump(classifier, 'gesture_model.pkl')\n",
    "print(\"Model saved successfully!\")\n"
   ]
  },
  {
   "cell_type": "code",
   "execution_count": 30,
   "metadata": {},
   "outputs": [
    {
     "name": "stdout",
     "output_type": "stream",
     "text": [
      "Press 'q' to exit...\n"
     ]
    }
   ],
   "source": [
    "gesture_model = joblib.load('gesture_model.pkl')\n",
    "\n",
    "def recognize_gestures():\n",
    "    cap = cv2.VideoCapture(0)\n",
    "    print(\"Press 'q' to exit...\")\n",
    "    \n",
    "    while True:\n",
    "        ret, frame = cap.read()\n",
    "        if not ret:\n",
    "            break\n",
    "        \n",
    "        frame = cv2.flip(frame, 1)\n",
    "        rgb_frame = cv2.cvtColor(frame, cv2.COLOR_BGR2RGB)\n",
    "        result = hands.process(rgb_frame)\n",
    "\n",
    "        if result.multi_hand_landmarks:\n",
    "            for hand_landmarks in result.multi_hand_landmarks:\n",
    "                landmarks = []\n",
    "                for lm in hand_landmarks.landmark:\n",
    "                    landmarks.extend([lm.x, lm.y, lm.z])\n",
    "                \n",
    "                landmarks = np.array(landmarks).reshape(1, -1)\n",
    "                prediction = gesture_model.predict(landmarks)\n",
    "                gesture_name = prediction[0]\n",
    "\n",
    "                cv2.putText(frame, f\"Gesture: {gesture_name}\", (10, 50),\n",
    "                            cv2.FONT_HERSHEY_SIMPLEX, 1, (0, 255, 0), 2)\n",
    "                mp_draw.draw_landmarks(frame, hand_landmarks, mp_hands.HAND_CONNECTIONS)\n",
    "        \n",
    "        cv2.imshow(\"Gesture Recognition\", frame)\n",
    "        if cv2.waitKey(1) & 0xFF == ord('q'):\n",
    "            break\n",
    "\n",
    "    cap.release()\n",
    "    cv2.destroyAllWindows()\n",
    "\n",
    "recognize_gestures()\n"
   ]
  }
 ],
 "metadata": {
  "kernelspec": {
   "display_name": "Python 3",
   "language": "python",
   "name": "python3"
  },
  "language_info": {
   "codemirror_mode": {
    "name": "ipython",
    "version": 3
   },
   "file_extension": ".py",
   "mimetype": "text/x-python",
   "name": "python",
   "nbconvert_exporter": "python",
   "pygments_lexer": "ipython3",
   "version": "3.8.0"
  }
 },
 "nbformat": 4,
 "nbformat_minor": 2
}
